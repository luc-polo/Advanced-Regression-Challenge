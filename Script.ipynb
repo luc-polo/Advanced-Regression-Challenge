{
 "cells": [
  {
   "cell_type": "code",
   "execution_count": null,
   "metadata": {},
   "outputs": [
    {
     "ename": "",
     "evalue": "",
     "output_type": "error",
     "traceback": [
      "\u001b[1;31mRunning cells with '.venv (Python 3.12.7)' requires the ipykernel package.\n",
      "\u001b[1;31mRun the following command to install 'ipykernel' into the Python environment. \n",
      "\u001b[1;31mCommand: '\"c:/Users/polol/OneDrive/Documents/Cours/Mines (cours)/3A/Majeure Science des données/UP 2 Apprentissage statistique/Regression avancée/Chellenge/Chellenge perso/Advanced-Regression-Challenge/.venv/Scripts/python.exe\" -m pip install ipykernel -U --force-reinstall'"
     ]
    }
   ],
   "source": [
    "import numpy as np\n",
    "import matplotlib.pyplot as plt\n",
    "import seaborn as sns"
   ]
  },
  {
   "cell_type": "code",
   "execution_count": null,
   "metadata": {},
   "outputs": [],
   "source": [
    "import pandas as pd\n",
    "from sklearn.preprocessing import StandardScaler\n",
    "\n",
    "# Read the file with automatic separator detection\n",
    "data = pd.read_csv('data.txt', delim_whitespace=True)\n",
    "\n",
    "# Extract target (y) and predictors (X)\n",
    "target = data['y']\n",
    "predictors = data.drop(columns=['y'])\n",
    "\n",
    "# Normalize the dataset\n",
    "scaler = StandardScaler()\n",
    "predictors_scaled_array = scaler.fit_transform(predictors)  # Returns a NumPy array\n",
    "\n",
    "# Convert the NumPy array back to a DataFrame while preserving column names\n",
    "predictors_scaled = pd.DataFrame(predictors_scaled_array, columns=predictors.columns)\n",
    "\n",
    "print(\"Target dimensions:\", target.shape)\n",
    "print(\"Predictors dimensions:\", predictors.shape)\n"
   ]
  }
 ],
 "metadata": {
  "kernelspec": {
   "display_name": ".venv",
   "language": "python",
   "name": "python3"
  },
  "language_info": {
   "name": "python",
   "version": "3.12.7"
  }
 },
 "nbformat": 4,
 "nbformat_minor": 2
}
